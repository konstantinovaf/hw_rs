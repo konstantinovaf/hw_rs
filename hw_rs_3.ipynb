{
 "cells": [
  {
   "cell_type": "markdown",
   "metadata": {},
   "source": [
    "Задание теме «Коллаборативная фильтрация»\n",
    "Преподаватель: Артур Сапрыкин\n",
    "ПАКЕТ SURPRISE http://surpriselib.com/\n",
    "\n",
    "используйте данные MovieLens 1M\n",
    "можно использовать любые модели из пакета\n",
    "получите RMSE на тестовом сете 0.87 и ниже\n",
    "Комментарий преподавателя :\n",
    "В ДЗ на датасет 1М может не хватить RAM. Можно сделать на 100K. Качество RMSE предлагаю считать на основе CrossValidation (5 фолдов), а не отложенном датасете.\n",
    "\n",
    "Файл Практика.ipynb лежит в слаке в чате aml7ds9"
   ]
  },
  {
   "cell_type": "code",
   "execution_count": 16,
   "metadata": {},
   "outputs": [
    {
     "name": "stdout",
     "output_type": "stream",
     "text": [
      "Evaluating RMSE, MAE of algorithm SVDpp on 5 split(s).\n",
      "\n",
      "                  Fold 1  Fold 2  Fold 3  Fold 4  Fold 5  Mean    Std     \n",
      "RMSE (testset)    0.9111  0.9249  0.9120  0.9173  0.9223  0.9175  0.0055  \n",
      "MAE (testset)     0.7140  0.7242  0.7168  0.7185  0.7241  0.7195  0.0040  \n",
      "Fit time          238.02  246.41  236.32  245.60  212.66  235.80  12.24   \n",
      "Test time         3.80    3.43    4.77    3.32    3.22    3.71    0.57    \n"
     ]
    },
    {
     "data": {
      "text/plain": [
       "{'test_rmse': array([0.91107921, 0.92491963, 0.91199241, 0.91727998, 0.9223065 ]),\n",
       " 'test_mae': array([0.71397089, 0.72416151, 0.71682619, 0.71853401, 0.72413586]),\n",
       " 'fit_time': (238.02481389045715,\n",
       "  246.40785455703735,\n",
       "  236.31761860847473,\n",
       "  245.59780764579773,\n",
       "  212.65746974945068),\n",
       " 'test_time': (3.8030364513397217,\n",
       "  3.426785469055176,\n",
       "  4.772683382034302,\n",
       "  3.31672739982605,\n",
       "  3.2225730419158936)}"
      ]
     },
     "execution_count": 16,
     "metadata": {},
     "output_type": "execute_result"
    }
   ],
   "source": [
    "# install SurPrise\n",
    "# From http://surpriselib.com/ I can achieve RMSE<0.87 just with 1 algoritms: SVD++, let's use it and spend time: 2:54:19\n",
    "# add n_jobs=-1 for save time\n",
    "from surprise import SVDpp\n",
    "from surprise import Dataset\n",
    "from surprise.model_selection import cross_validate\n",
    "# from surprise.model_selection import train_test_split\n",
    "\n",
    "\n",
    "# Load the movielens-100k dataset (download it if needed),\n",
    "data = Dataset.load_builtin('ml-100k')\n",
    "# ml-1m\n",
    "\n",
    "# We'll use the famous SVD++ algorithm.\n",
    "algo = SVDpp()\n",
    "\n",
    "# Run 5-fold cross-validation and print results\n",
    "cross_validate(algo, data, measures=['RMSE', 'MAE'], cv=5, verbose=True, n_jobs=-1)"
   ]
  },
  {
   "cell_type": "code",
   "execution_count": 17,
   "metadata": {},
   "outputs": [
    {
     "name": "stdout",
     "output_type": "stream",
     "text": [
      "Dataset ml-1m could not be found. Do you want to download it? [Y/n] y\n",
      "Trying to download dataset from http://files.grouplens.org/datasets/movielens/ml-1m.zip...\n",
      "Done! Dataset ml-1m has been saved to C:\\Users\\User/.surprise_data/ml-1m\n"
     ]
    },
    {
     "name": "stderr",
     "output_type": "stream",
     "text": [
      "C:\\Users\\User\\Anaconda3\\lib\\site-packages\\joblib\\externals\\loky\\process_executor.py:706: UserWarning: A worker stopped while some jobs were given to the executor. This can be caused by a too short worker timeout or by a memory leak.\n",
      "  \"timeout or by a memory leak.\", UserWarning\n"
     ]
    },
    {
     "name": "stdout",
     "output_type": "stream",
     "text": [
      "Evaluating RMSE, MAE of algorithm SVDpp on 5 split(s).\n",
      "\n",
      "                  Fold 1  Fold 2  Fold 3  Fold 4  Fold 5  Mean    Std     \n",
      "RMSE (testset)    0.8624  0.8629  0.8609  0.8640  0.8600  0.8621  0.0014  \n",
      "MAE (testset)     0.6731  0.6727  0.6721  0.6735  0.6699  0.6723  0.0013  \n",
      "Fit time          4494.15 4467.49 4644.80 4524.49 4093.85 4444.95 185.73  \n",
      "Test time         77.96   77.86   68.69   69.48   59.19   70.64   6.96    \n"
     ]
    },
    {
     "data": {
      "text/plain": [
       "{'test_rmse': array([0.86242643, 0.86293703, 0.86094885, 0.86398962, 0.85998053]),\n",
       " 'test_mae': array([0.67305343, 0.6727395 , 0.67205827, 0.67354153, 0.66994152]),\n",
       " 'fit_time': (4494.148530960083,\n",
       "  4467.487859249115,\n",
       "  4644.798243999481,\n",
       "  4524.494383573532,\n",
       "  4093.8453867435455),\n",
       " 'test_time': (77.96049761772156,\n",
       "  77.86493420600891,\n",
       "  68.6946771144867,\n",
       "  69.47895359992981,\n",
       "  59.18710207939148)}"
      ]
     },
     "execution_count": 17,
     "metadata": {},
     "output_type": "execute_result"
    }
   ],
   "source": [
    "# NOTE: RMSE results that were announced on the site agreed with what happened. \n",
    "# Now download the big Dataset and start the computer for longer. \n",
    "# This should be enough to fulfill the requirements of homework.\n",
    "\n",
    "# From http://surpriselib.com/ I can achieve RMSE<0.87 just with 1 algoritms: SVD++, let's use it and spend time: 2:54:19\n",
    "# add n_jobs=-1 for save time\n",
    "from surprise import SVDpp\n",
    "from surprise import Dataset\n",
    "from surprise.model_selection import cross_validate\n",
    "# from surprise.model_selection import train_test_split\n",
    "\n",
    "\n",
    "# Load the movielens-100k dataset (download it if needed),\n",
    "data = Dataset.load_builtin('ml-1m')\n",
    "# ml-1m\n",
    "\n",
    "# We'll use the famous SVD++ algorithm.\n",
    "algo = SVDpp()\n",
    "\n",
    "# Run 5-fold cross-validation and print results\n",
    "cross_validate(algo, data, measures=['RMSE', 'MAE'], cv=5, verbose=True, n_jobs=-1)"
   ]
  },
  {
   "cell_type": "markdown",
   "metadata": {},
   "source": [
    "# Result achieved Mean RMSE 0.8621"
   ]
  },
  {
   "cell_type": "code",
   "execution_count": null,
   "metadata": {},
   "outputs": [],
   "source": []
  }
 ],
 "metadata": {
  "kernelspec": {
   "display_name": "Python 3",
   "language": "python",
   "name": "python3"
  },
  "language_info": {
   "codemirror_mode": {
    "name": "ipython",
    "version": 3
   },
   "file_extension": ".py",
   "mimetype": "text/x-python",
   "name": "python",
   "nbconvert_exporter": "python",
   "pygments_lexer": "ipython3",
   "version": "3.6.5"
  }
 },
 "nbformat": 4,
 "nbformat_minor": 2
}
